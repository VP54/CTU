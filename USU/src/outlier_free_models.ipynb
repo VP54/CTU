{
 "cells": [
  {
   "cell_type": "code",
   "execution_count": 10,
   "metadata": {},
   "outputs": [],
   "source": [
    "import pandas as pd\n",
    "from sklearn.preprocessing import OneHotEncoder\n",
    "from sklearn.pipeline import Pipeline\n",
    "from sklearn.linear_model import LinearRegression\n",
    "from sklearn.tree import DecisionTreeRegressor\n",
    "from sklearn.metrics import r2_score, mean_absolute_error, mean_squared_error\n",
    "import matplotlib.pyplot as plt\n",
    "from scipy import stats"
   ]
  },
  {
   "cell_type": "code",
   "execution_count": 11,
   "metadata": {},
   "outputs": [
    {
     "data": {
      "text/html": [
       "<div>\n",
       "<style scoped>\n",
       "    .dataframe tbody tr th:only-of-type {\n",
       "        vertical-align: middle;\n",
       "    }\n",
       "\n",
       "    .dataframe tbody tr th {\n",
       "        vertical-align: top;\n",
       "    }\n",
       "\n",
       "    .dataframe thead th {\n",
       "        text-align: right;\n",
       "    }\n",
       "</style>\n",
       "<table border=\"1\" class=\"dataframe\">\n",
       "  <thead>\n",
       "    <tr style=\"text-align: right;\">\n",
       "      <th></th>\n",
       "      <th>id</th>\n",
       "      <th>week</th>\n",
       "      <th>center_id</th>\n",
       "      <th>meal_id</th>\n",
       "      <th>checkout_price</th>\n",
       "      <th>emailer_for_promotion</th>\n",
       "      <th>homepage_featured</th>\n",
       "      <th>num_orders</th>\n",
       "      <th>category</th>\n",
       "      <th>cuisine</th>\n",
       "      <th>city_code</th>\n",
       "      <th>region_code</th>\n",
       "      <th>center_type</th>\n",
       "      <th>op_area</th>\n",
       "      <th>total_sale</th>\n",
       "    </tr>\n",
       "  </thead>\n",
       "  <tbody>\n",
       "    <tr>\n",
       "      <th>0</th>\n",
       "      <td>1379560</td>\n",
       "      <td>1</td>\n",
       "      <td>55</td>\n",
       "      <td>1885</td>\n",
       "      <td>136.83</td>\n",
       "      <td>0</td>\n",
       "      <td>0</td>\n",
       "      <td>177</td>\n",
       "      <td>Beverages</td>\n",
       "      <td>Thai</td>\n",
       "      <td>647</td>\n",
       "      <td>56</td>\n",
       "      <td>TYPE_C</td>\n",
       "      <td>2.0</td>\n",
       "      <td>26955.33</td>\n",
       "    </tr>\n",
       "    <tr>\n",
       "      <th>1</th>\n",
       "      <td>1466964</td>\n",
       "      <td>1</td>\n",
       "      <td>55</td>\n",
       "      <td>1993</td>\n",
       "      <td>136.83</td>\n",
       "      <td>0</td>\n",
       "      <td>0</td>\n",
       "      <td>270</td>\n",
       "      <td>Beverages</td>\n",
       "      <td>Thai</td>\n",
       "      <td>647</td>\n",
       "      <td>56</td>\n",
       "      <td>TYPE_C</td>\n",
       "      <td>2.0</td>\n",
       "      <td>36674.10</td>\n",
       "    </tr>\n",
       "    <tr>\n",
       "      <th>2</th>\n",
       "      <td>1346989</td>\n",
       "      <td>1</td>\n",
       "      <td>55</td>\n",
       "      <td>2539</td>\n",
       "      <td>134.86</td>\n",
       "      <td>0</td>\n",
       "      <td>0</td>\n",
       "      <td>189</td>\n",
       "      <td>Beverages</td>\n",
       "      <td>Thai</td>\n",
       "      <td>647</td>\n",
       "      <td>56</td>\n",
       "      <td>TYPE_C</td>\n",
       "      <td>2.0</td>\n",
       "      <td>25677.54</td>\n",
       "    </tr>\n",
       "  </tbody>\n",
       "</table>\n",
       "</div>"
      ],
      "text/plain": [
       "        id  week  center_id  meal_id  checkout_price  emailer_for_promotion  \\\n",
       "0  1379560     1         55     1885          136.83                      0   \n",
       "1  1466964     1         55     1993          136.83                      0   \n",
       "2  1346989     1         55     2539          134.86                      0   \n",
       "\n",
       "   homepage_featured  num_orders   category cuisine  city_code  region_code  \\\n",
       "0                  0         177  Beverages    Thai        647           56   \n",
       "1                  0         270  Beverages    Thai        647           56   \n",
       "2                  0         189  Beverages    Thai        647           56   \n",
       "\n",
       "  center_type  op_area  total_sale  \n",
       "0      TYPE_C      2.0    26955.33  \n",
       "1      TYPE_C      2.0    36674.10  \n",
       "2      TYPE_C      2.0    25677.54  "
      ]
     },
     "execution_count": 11,
     "metadata": {},
     "output_type": "execute_result"
    }
   ],
   "source": [
    "df_test = pd.read_csv(\"../data/test.csv\") # neobsahuje target\n",
    "df = pd.read_parquet(\"../data/train_after_eda.parquet\")\n",
    "df = df.drop(columns=\"base_price\")\n",
    "df.head(3)"
   ]
  },
  {
   "cell_type": "code",
   "execution_count": 12,
   "metadata": {},
   "outputs": [],
   "source": [
    "z_scores = stats.zscore(df['total_sale'])\n",
    "threshold = 3\n",
    "df_no_outliers = df[(z_scores < threshold) & (z_scores > -threshold)]\n",
    "PREDICTOR_COLUMS = [col for col in df_no_outliers.columns if col != \"num_orders\"]\n",
    "\n",
    "train_df = df_no_outliers[df_no_outliers['week'] <= 120]\n",
    "test_df = df_no_outliers[df_no_outliers['week'] >= 120]\n",
    "\n",
    "X_train = train_df[PREDICTOR_COLUMS]\n",
    "y_train = train_df[[\"num_orders\"]]\n",
    "\n",
    "X_test = test_df[PREDICTOR_COLUMS]\n",
    "y_test = test_df[[\"num_orders\"]]"
   ]
  },
  {
   "cell_type": "code",
   "execution_count": 13,
   "metadata": {},
   "outputs": [],
   "source": [
    "## Preprocessing variables\n",
    "CATEGORICAL_COLS = [\"category\", \"cuisine\", \"center_type\"]\n",
    "ct = ColumnTransformer([('_encoder', OneHotEncoder(), CATEGORICAL_COLS)])"
   ]
  },
  {
   "cell_type": "code",
   "execution_count": 14,
   "metadata": {},
   "outputs": [
    {
     "name": "stdout",
     "output_type": "stream",
     "text": [
      "R2: 0.3624754876590056 \t MAE: 134.07766080979573 \t MSE: 43057.98815375919\n"
     ]
    }
   ],
   "source": [
    "pipe = Pipeline([\n",
    "    ('encoder', ct), \n",
    "    ('regression', LinearRegression()), \n",
    "])\n",
    "\n",
    "model = pipe.fit(X_train, y_train)\n",
    "y_pred = model.predict(X_test)\n",
    "\n",
    "#SCORE\n",
    "\n",
    "r2, mae, mse = r2_score(y_test, y_pred), mean_absolute_error(y_test, y_pred), mean_squared_error(y_test, y_pred)\n",
    "\n",
    "print(\n",
    "    f\"R2: {r2} \\t MAE: {mae} \\t MSE: {mse}\" \n",
    ")"
   ]
  },
  {
   "cell_type": "code",
   "execution_count": 15,
   "metadata": {},
   "outputs": [
    {
     "name": "stdout",
     "output_type": "stream",
     "text": [
      "R2: 0.39285662411083166 \t MAE: 127.65020318429427 \t MSE: 41006.0660894029\n"
     ]
    }
   ],
   "source": [
    "pipe = Pipeline([\n",
    "    ('encoder', ct), \n",
    "    ('regression', DecisionTreeRegressor(random_state=1)), \n",
    "])\n",
    "\n",
    "model = pipe.fit(X_train, y_train)\n",
    "y_pred = model.predict(X_test)\n",
    "\n",
    "#SCORE\n",
    "\n",
    "r2, mae, mse = r2_score(y_test, y_pred), mean_absolute_error(y_test, y_pred), mean_squared_error(y_test, y_pred)\n",
    "print(f\"R2: {r2} \\t MAE: {mae} \\t MSE: {mse}\")"
   ]
  },
  {
   "cell_type": "code",
   "execution_count": 16,
   "metadata": {},
   "outputs": [
    {
     "name": "stdout",
     "output_type": "stream",
     "text": [
      "R2: 0.39285662411083166 \t MAE: 127.65020318429427 \t MSE: 41006.0660894029\n"
     ]
    }
   ],
   "source": [
    "pipe = Pipeline([\n",
    "    ('encoder', ct), \n",
    "    ('regression', DecisionTreeRegressor(random_state=1)), \n",
    "])\n",
    "\n",
    "model = pipe.fit(X_train, y_train)\n",
    "y_pred = model.predict(X_test)\n",
    "\n",
    "#SCORE\n",
    "\n",
    "r2, mae, mse = r2_score(y_test, y_pred), mean_absolute_error(y_test, y_pred), mean_squared_error(y_test, y_pred)\n",
    "\n",
    "print(\n",
    "    f\"R2: {r2} \\t MAE: {mae} \\t MSE: {mse}\" \n",
    ")"
   ]
  },
  {
   "cell_type": "markdown",
   "metadata": {},
   "source": [
    "## Results\n",
    "1. Better results but not good enough\n",
    "2. Seems as outlier heavy task\n",
    "\n",
    "## Resolution\n",
    "1. Use better regularized rergession, \"better\" loss function\n",
    "2. Use random forest RandomForest"
   ]
  }
 ],
 "metadata": {
  "kernelspec": {
   "display_name": "base",
   "language": "python",
   "name": "python3"
  },
  "language_info": {
   "codemirror_mode": {
    "name": "ipython",
    "version": 3
   },
   "file_extension": ".py",
   "mimetype": "text/x-python",
   "name": "python",
   "nbconvert_exporter": "python",
   "pygments_lexer": "ipython3",
   "version": "3.10.16"
  }
 },
 "nbformat": 4,
 "nbformat_minor": 2
}
