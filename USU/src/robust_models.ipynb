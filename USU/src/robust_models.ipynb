{
 "cells": [
  {
   "cell_type": "code",
   "execution_count": 4,
   "metadata": {},
   "outputs": [],
   "source": [
    "import pandas as pd\n",
    "from sklearn.preprocessing import OneHotEncoder, OrdinalEncoder\n",
    "from sklearn.pipeline import Pipeline\n",
    "from sklearn.linear_model import LinearRegression\n",
    "from sklearn.tree import DecisionTreeRegressor\n",
    "from sklearn.ensemble import RandomForestRegressor\n",
    "from sklearn.metrics import r2_score, mean_absolute_error, mean_squared_error\n",
    "import numpy as np\n",
    "import matplotlib.pyplot as plt\n",
    "import statsmodels.api as sm"
   ]
  },
  {
   "cell_type": "code",
   "execution_count": 5,
   "metadata": {},
   "outputs": [
    {
     "data": {
      "text/html": [
       "<div>\n",
       "<style scoped>\n",
       "    .dataframe tbody tr th:only-of-type {\n",
       "        vertical-align: middle;\n",
       "    }\n",
       "\n",
       "    .dataframe tbody tr th {\n",
       "        vertical-align: top;\n",
       "    }\n",
       "\n",
       "    .dataframe thead th {\n",
       "        text-align: right;\n",
       "    }\n",
       "</style>\n",
       "<table border=\"1\" class=\"dataframe\">\n",
       "  <thead>\n",
       "    <tr style=\"text-align: right;\">\n",
       "      <th></th>\n",
       "      <th>id</th>\n",
       "      <th>week</th>\n",
       "      <th>center_id</th>\n",
       "      <th>meal_id</th>\n",
       "      <th>checkout_price</th>\n",
       "      <th>emailer_for_promotion</th>\n",
       "      <th>homepage_featured</th>\n",
       "      <th>num_orders</th>\n",
       "      <th>category</th>\n",
       "      <th>cuisine</th>\n",
       "      <th>city_code</th>\n",
       "      <th>region_code</th>\n",
       "      <th>center_type</th>\n",
       "      <th>op_area</th>\n",
       "      <th>total_sale</th>\n",
       "    </tr>\n",
       "  </thead>\n",
       "  <tbody>\n",
       "    <tr>\n",
       "      <th>0</th>\n",
       "      <td>1379560</td>\n",
       "      <td>1</td>\n",
       "      <td>55</td>\n",
       "      <td>1885</td>\n",
       "      <td>136.83</td>\n",
       "      <td>0</td>\n",
       "      <td>0</td>\n",
       "      <td>177</td>\n",
       "      <td>Beverages</td>\n",
       "      <td>Thai</td>\n",
       "      <td>647</td>\n",
       "      <td>56</td>\n",
       "      <td>TYPE_C</td>\n",
       "      <td>2.0</td>\n",
       "      <td>26955.33</td>\n",
       "    </tr>\n",
       "    <tr>\n",
       "      <th>1</th>\n",
       "      <td>1466964</td>\n",
       "      <td>1</td>\n",
       "      <td>55</td>\n",
       "      <td>1993</td>\n",
       "      <td>136.83</td>\n",
       "      <td>0</td>\n",
       "      <td>0</td>\n",
       "      <td>270</td>\n",
       "      <td>Beverages</td>\n",
       "      <td>Thai</td>\n",
       "      <td>647</td>\n",
       "      <td>56</td>\n",
       "      <td>TYPE_C</td>\n",
       "      <td>2.0</td>\n",
       "      <td>36674.10</td>\n",
       "    </tr>\n",
       "    <tr>\n",
       "      <th>2</th>\n",
       "      <td>1346989</td>\n",
       "      <td>1</td>\n",
       "      <td>55</td>\n",
       "      <td>2539</td>\n",
       "      <td>134.86</td>\n",
       "      <td>0</td>\n",
       "      <td>0</td>\n",
       "      <td>189</td>\n",
       "      <td>Beverages</td>\n",
       "      <td>Thai</td>\n",
       "      <td>647</td>\n",
       "      <td>56</td>\n",
       "      <td>TYPE_C</td>\n",
       "      <td>2.0</td>\n",
       "      <td>25677.54</td>\n",
       "    </tr>\n",
       "  </tbody>\n",
       "</table>\n",
       "</div>"
      ],
      "text/plain": [
       "        id  week  center_id  meal_id  checkout_price  emailer_for_promotion  \\\n",
       "0  1379560     1         55     1885          136.83                      0   \n",
       "1  1466964     1         55     1993          136.83                      0   \n",
       "2  1346989     1         55     2539          134.86                      0   \n",
       "\n",
       "   homepage_featured  num_orders   category cuisine  city_code  region_code  \\\n",
       "0                  0         177  Beverages    Thai        647           56   \n",
       "1                  0         270  Beverages    Thai        647           56   \n",
       "2                  0         189  Beverages    Thai        647           56   \n",
       "\n",
       "  center_type  op_area  total_sale  \n",
       "0      TYPE_C      2.0    26955.33  \n",
       "1      TYPE_C      2.0    36674.10  \n",
       "2      TYPE_C      2.0    25677.54  "
      ]
     },
     "execution_count": 5,
     "metadata": {},
     "output_type": "execute_result"
    }
   ],
   "source": [
    "df_test = pd.read_csv(\"../data/test.csv\") # neobsahuje target\n",
    "df = pd.read_parquet(\"../data/train_after_eda.parquet\")\n",
    "df = df.drop(columns=\"base_price\")\n",
    "df.head(3)"
   ]
  },
  {
   "cell_type": "code",
   "execution_count": 6,
   "metadata": {},
   "outputs": [],
   "source": [
    "CATEGORICAL_COLS = [\"category\", \"cuisine\", \"center_type\"]\n",
    "for col in CATEGORICAL_COLS:\n",
    "    encoder = OneHotEncoder()\n",
    "    encoded_values = encoder.fit_transform(df[[col]])\n",
    "    encoded_df = pd.DataFrame(encoded_values.toarray(), columns=encoder.get_feature_names_out([col]))\n",
    "    df_encoded = pd.concat([df, encoded_df], axis=1)\n",
    "    \n",
    "OTHER_COLS = [col for col in df.columns if col not in CATEGORICAL_COLS]\n",
    "df_encoded = df_encoded[OTHER_COLS]"
   ]
  },
  {
   "cell_type": "code",
   "execution_count": 7,
   "metadata": {},
   "outputs": [],
   "source": [
    "PREDICTOR_COLUMS = [col for col in df_encoded.columns if col != \"num_orders\"]\n",
    "train_df = df_encoded[df_encoded['week'] <= 120]\n",
    "test_df = df_encoded[df_encoded['week'] >= 120]\n",
    "\n",
    "X_train_enc = train_df[PREDICTOR_COLUMS]\n",
    "y_train_enc = train_df[[\"num_orders\"]]\n",
    "\n",
    "X_test_enc = test_df[PREDICTOR_COLUMS]\n",
    "y_test_enc = test_df[[\"num_orders\"]]"
   ]
  },
  {
   "cell_type": "code",
   "execution_count": 8,
   "metadata": {},
   "outputs": [
    {
     "name": "stdout",
     "output_type": "stream",
     "text": [
      "R2: 0.8700461903168095 \t MAE: 64.88020486839088 \t MSE: 17334.574954975717\n"
     ]
    }
   ],
   "source": [
    "import statsmodels.api as sm\n",
    "from sklearn.model_selection import train_test_split\n",
    "\n",
    "rlm_model = sm.RLM(y_train_enc, sm.add_constant(X_train_enc)).fit()\n",
    "y_pred = rlm_model.predict(sm.add_constant(X_test_enc))\n",
    "\n",
    "r2, mae, mse = r2_score(y_test_enc, y_pred), mean_absolute_error(y_test_enc, y_pred), mean_squared_error(y_test_enc, y_pred)\n",
    "print(f\"R2: {r2} \\t MAE: {mae} \\t MSE: {mse}\")"
   ]
  },
  {
   "cell_type": "code",
   "execution_count": 9,
   "metadata": {},
   "outputs": [
    {
     "name": "stderr",
     "output_type": "stream",
     "text": [
      "/var/folders/3b/xyq4srtx5gl95073r1qm5v_w0000gn/T/ipykernel_27017/128945246.py:2: DataConversionWarning: A column-vector y was passed when a 1d array was expected. Please change the shape of y to (n_samples,), for example using ravel().\n",
      "  random_forest.fit(X_train_enc, y_train_enc)\n"
     ]
    },
    {
     "name": "stdout",
     "output_type": "stream",
     "text": [
      "R2: 0.9867441423026483 \t MAE: 14.002460924236926 \t MSE: 1768.202559104799\n"
     ]
    }
   ],
   "source": [
    "random_forest = RandomForestRegressor(n_estimators=100, random_state=42)  # You can adjust hyperparameters like n_estimators\n",
    "random_forest.fit(X_train_enc, y_train_enc)\n",
    "y_pred = random_forest.predict(X_test_enc)\n",
    "\n",
    "r2, mae, mse = r2_score(y_test_enc, y_pred), mean_absolute_error(y_test_enc, y_pred), mean_squared_error(y_test_enc, y_pred)\n",
    "print(f\"R2: {r2} \\t MAE: {mae} \\t MSE: {mse}\")\n"
   ]
  },
  {
   "cell_type": "code",
   "execution_count": 10,
   "metadata": {},
   "outputs": [
    {
     "data": {
      "image/png": "[encoded data removed]",
      "text/plain": [
       "<Figure size 640x480 with 1 Axes>"
      ]
     },
     "metadata": {},
     "output_type": "display_data"
    }
   ],
   "source": [
    "importances = random_forest.feature_importances_\n",
    "std = np.std([tree.feature_importances_ for tree in random_forest.estimators_], axis=0)\n",
    "\n",
    "forest_importances = pd.Series(importances, index=X_test_enc.columns)\n",
    "fig, ax = plt.subplots()\n",
    "forest_importances.plot.bar(yerr=std, ax=ax)\n",
    "ax.set_title(\"Feature Importances Random Forest\")\n",
    "ax.set_ylabel(\"Mean decrease in impurity\")\n",
    "fig.tight_layout()"
   ]
  },
  {
   "cell_type": "markdown",
   "metadata": {},
   "source": [
    "## Results\n",
    "1. Both models accomplished to reduce errors and increase R2Score significantly\n",
    "2. I personally would use RobustRergession even though the scores are not the best for reasons I will mention in a bit\n",
    "\n",
    "## Results\n",
    "1. R2 scores very decent\n",
    "2. MSE/MAE shrunk significantly\n",
    "\n",
    "## Place for improvement\n",
    "1. XGBoost/CatBoost instead of RandomForest\n",
    "2. More variables such as lagging features\n",
    "3. Combine more regressors\n",
    "4. Delete features that do not contribute or maybe aggregate them (email/homepage) to one feature such as sentiment/loyalty\n",
    "\n",
    "## Closing Thoughts\n",
    "I could try out new methods and models and get better at forecasting. As far as my recommendation I would stick to robust regression for following reasons:\n",
    "1. Good results\n",
    "2. Fast to train (with more and more data as people buy groceries very often it will become lengthy and costly to train models and therefore I would prefer simple and fast, yet powerful method)\n",
    "3. Scalability of RandomForest - In stores/meals etc. You will naturally want to evolve Your products/ try out new ones etc. Tree base models will not be able to predict for other than seen products and that will hinder progress/innovation of the store etc.. With a close to no performance loss You can have something that will still be very powerful to at least estimate some expectations about new/different/yet unseen product which will create space to for hypotheses and make smarter business decisions\n",
    "\n",
    "I will try to implement app on top of this to improve my SWE skills. If anyone comes across this and would want to ask me anything or have any recommendations, critque I am more than happy to hear it since it will help me get better at what I do :) Thanks a lot and if You are reading this have a great day!"
   ]
  }
 ],
 "metadata": {
  "kernelspec": {
   "display_name": "base",
   "language": "python",
   "name": "python3"
  },
  "language_info": {
   "codemirror_mode": {
    "name": "ipython",
    "version": 3
   },
   "file_extension": ".py",
   "mimetype": "text/x-python",
   "name": "python",
   "nbconvert_exporter": "python",
   "pygments_lexer": "ipython3",
   "version": "3.10.16"
  }
 },
 "nbformat": 4,
 "nbformat_minor": 2
}
