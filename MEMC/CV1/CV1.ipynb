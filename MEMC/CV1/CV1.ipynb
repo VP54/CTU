{
 "cells": [
  {
   "cell_type": "code",
   "execution_count": null,
   "metadata": {},
   "outputs": [],
   "source": [
    "import matplotlib.pyplot as plt\n",
    "import numpy as np\n",
    "\n",
    "x = np.random.rand(100000)\n",
    "\n",
    "counts, bins = np.histogram(x, density=True)\n",
    "plt.stairs(counts, bins)"
   ]
  },
  {
   "cell_type": "code",
   "execution_count": null,
   "metadata": {},
   "outputs": [],
   "source": [
    "p_cond = 0.7\n",
    "x_less_than_one_half = x[x<p_cond]\n",
    "x_more_than_one_half = x[x>p_cond]\n",
    "\n",
    "counts, bins = np.histogram(x_less_than_one_half, density=True)\n",
    "plt.stairs(counts, bins)\n",
    "\n",
    "counts, bins = np.histogram(x_more_than_one_half, density=True)\n",
    "plt.stairs(counts, bins)"
   ]
  },
  {
   "cell_type": "code",
   "execution_count": null,
   "metadata": {},
   "outputs": [],
   "source": [
    "n_samples = 1000\n",
    "x = np.random.normal(0, 1, 1000)\n",
    "plt.hist(x, density=True)"
   ]
  },
  {
   "cell_type": "code",
   "execution_count": null,
   "metadata": {},
   "outputs": [],
   "source": [
    "num_balls = 100\n",
    "num_horizontal = 3\n",
    "num_ball_decision = num_balls * num_horizontal\n",
    "proba_param = 0.5\n",
    "\n",
    "x = np.random.rand(num_ball_decision)\n",
    "matrix = np.matrix([np.random.rand(num_balls) for i in range(num_horizontal)])\n",
    "random_directions = x[x<proba_param]\n",
    "\n",
    "matrix[::1]\n"
   ]
  },
  {
   "cell_type": "code",
   "execution_count": 71,
   "metadata": {},
   "outputs": [
    {
     "name": "stderr",
     "output_type": "stream",
     "text": [
      "/Users/vasek/miniconda3/lib/python3.10/site-packages/numpy/matrixlib/defmatrix.py:145: VisibleDeprecationWarning: Creating an ndarray from ragged nested sequences (which is a list-or-tuple of lists-or-tuples-or ndarrays with different lengths or shapes) is deprecated. If you meant to do this, you must specify 'dtype=object' when creating the ndarray.\n",
      "  arr = N.array(data, dtype=dtype, copy=copy)\n"
     ]
    },
    {
     "ename": "NotImplementedError",
     "evalue": "multi-dimensional sub-views are not implemented",
     "output_type": "error",
     "traceback": [
      "\u001b[0;31m---------------------------------------------------------------------------\u001b[0m",
      "\u001b[0;31mNotImplementedError\u001b[0m                       Traceback (most recent call last)",
      "\u001b[1;32m/Users/vasek/Desktop/programming/python/school/MEMC/CV1.ipynb Cell 5\u001b[0m line \u001b[0;36m7\n\u001b[1;32m      <a href='vscode-notebook-cell:/Users/vasek/Desktop/programming/python/school/MEMC/CV1.ipynb#W4sZmlsZQ%3D%3D?line=4'>5</a>\u001b[0m \u001b[39mfor\u001b[39;00m ii \u001b[39min\u001b[39;00m i:\n\u001b[1;32m      <a href='vscode-notebook-cell:/Users/vasek/Desktop/programming/python/school/MEMC/CV1.ipynb#W4sZmlsZQ%3D%3D?line=5'>6</a>\u001b[0m     \u001b[39mfor\u001b[39;00m iii \u001b[39min\u001b[39;00m ii:\n\u001b[0;32m----> <a href='vscode-notebook-cell:/Users/vasek/Desktop/programming/python/school/MEMC/CV1.ipynb#W4sZmlsZQ%3D%3D?line=6'>7</a>\u001b[0m         \u001b[39mprint\u001b[39m(\u001b[39mlist\u001b[39;49m(iii\u001b[39m.\u001b[39;49mdata))\n",
      "\u001b[0;31mNotImplementedError\u001b[0m: multi-dimensional sub-views are not implemented"
     ]
    }
   ],
   "source": []
  },
  {
   "cell_type": "code",
   "execution_count": null,
   "metadata": {},
   "outputs": [],
   "source": []
  }
 ],
 "metadata": {
  "kernelspec": {
   "display_name": "base",
   "language": "python",
   "name": "python3"
  },
  "language_info": {
   "codemirror_mode": {
    "name": "ipython",
    "version": 3
   },
   "file_extension": ".py",
   "mimetype": "text/x-python",
   "name": "python",
   "nbconvert_exporter": "python",
   "pygments_lexer": "ipython3",
   "version": "3.10.8"
  },
  "orig_nbformat": 4
 },
 "nbformat": 4,
 "nbformat_minor": 2
}
