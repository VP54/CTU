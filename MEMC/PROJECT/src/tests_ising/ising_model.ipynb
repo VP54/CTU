{
 "cells": [
  {
   "cell_type": "code",
   "execution_count": 20,
   "metadata": {},
   "outputs": [],
   "source": [
    "from itertools import compress, product\n",
    "import shutil, os, datetime\n",
    "from typing import Tuple, List, Generator, Optional\n",
    "from abc import ABC\n",
    "import pandas as pd\n",
    "import numpy as np\n",
    "from numba import njit\n",
    "import matplotlib.pyplot as plt\n",
    "import seaborn as sns\n",
    "from test import probability_spin"
   ]
  },
  {
   "cell_type": "code",
   "execution_count": 21,
   "metadata": {},
   "outputs": [
    {
     "data": {
      "text/plain": [
       "0.2455034475094771"
      ]
     },
     "execution_count": 21,
     "metadata": {},
     "output_type": "execute_result"
    }
   ],
   "source": []
  },
  {
   "cell_type": "code",
   "execution_count": 2,
   "metadata": {},
   "outputs": [],
   "source": [
    "class GlauberDynamics(ABC):\n",
    "    \n",
    "    def plot():\n",
    "        raise NotImplementedError(\"Implement plot method\")\n",
    "    \n",
    "    def simulate():\n",
    "        raise NotImplementedError(\"Implement simulate method\")\n",
    "    "
   ]
  },
  {
   "cell_type": "code",
   "execution_count": 3,
   "metadata": {},
   "outputs": [],
   "source": [
    "class GlauberHelperFunctions:\n",
    "    def __init__(self, frame_length: int, frame_width: Optional[int] = None):\n",
    "        self.frame_length = frame_length\n",
    "        self.frame_width = frame_width\n",
    "    \n",
    "    def _create_initial_field_matrix(self) -> np.matrix:\n",
    "        \"\"\"\n",
    "        Creates initial field with random spin values {-1, 1}\n",
    "        \n",
    "        Returns:\n",
    "        --------\n",
    "        np.matrix\n",
    "        \"\"\"\n",
    "        \n",
    "        if self.frame_width is None:\n",
    "            self.frame_width = self.frame_length\n",
    "        \n",
    "        init_matrix = np.ones([self.frame_length, self.frame_width])\n",
    "        for x in range(self.frame_width):\n",
    "            for y in range(self.frame_length):\n",
    "                init_matrix[x, y] = np.random.choice([-1, 1])\n",
    "        return init_matrix\n",
    "        \n",
    "    def _create_axes(self) -> np.array:\n",
    "        \"\"\"\n",
    "        Creates axes with node indexes\n",
    "        \"\"\"\n",
    "        return np.linspace(0, self.frame_width-1, self.frame_width, int), np.linspace(0, self.frame_length-1, self.frame_length, int)\n",
    "    \n",
    "    def _select_random_coordinates(self, x_coords: np.array, y_coords: np.array) -> Tuple[int, int]:\n",
    "        \"\"\"\n",
    "        Randomly assignes x, y, coordinate from array of possible values\n",
    "        Parameters:\n",
    "        -----------\n",
    "        x_coords: np.array - array of possible values on x-axis\n",
    "        y_coords: np.array - array of possible values on y-axis\n",
    "        \"\"\"\n",
    "        x = int(np.random.choice(x_coords))\n",
    "        y = int(np.random.choice(y_coords))\n",
    "        return x, y\n",
    "    \n",
    "    def _restrict_edge_values(self, NUM_PARTICLES: int, *coords: Tuple[int, int]) -> bool:\n",
    "        \"\"\"\n",
    "        Calculates probability that particle given coordinates will spin\n",
    "        Paramters: \n",
    "        ----------\n",
    "        NUM_PARTICLES: int - maximum grid limit\n",
    "        coords: Tuple[int, int] - [x, y] coordinates of particle\n",
    "        \"\"\"\n",
    "        for coord in coords:\n",
    "            if (\n",
    "                (coord[0] in [-1, NUM_PARTICLES]) \n",
    "                or (coord[1] in [-1, NUM_PARTICLES])\n",
    "            ):\n",
    "                yield False\n",
    "            else:\n",
    "                yield True\n",
    "\n",
    "    def _get_spin_value(self, spin_values_matrix: np.matrix, coords: List[Tuple[int, int]]) -> Generator[int, int, int]:\n",
    "        \"\"\"\n",
    "        Gets spin value from coordinates and matrix with spin values\n",
    "        Paramters: \n",
    "        ----------\n",
    "        spin_values_matrix: np.matrix - matrix of spin_values for each particle (node)\n",
    "        coords: Tuple[int, int] - [x, y] coordinates of particle\n",
    "        \"\"\"\n",
    "        for coord in coords:\n",
    "            x, y = coord[0], coord[1]\n",
    "            yield spin_values_matrix[int(x), int(y)]\n",
    "\n",
    "    def _sum_neighbors(self, x: int, y: int, spin_values_matrix: np.matrix, NUM_PARTICLES: int) -> int:\n",
    "        \"\"\"\n",
    "        Sums spin values in neighbouroughood of particle located by x, y\n",
    "        Paramters: \n",
    "        ----------\n",
    "        x: int - x_coordinate of particle\n",
    "        y: int - y_coordinate of particle\n",
    "        spin_field: np.matrix - matrix of spin_values for each particle (node)\n",
    "        NUM_PARTICLES: int - maximum grid limit\n",
    "        \"\"\"\n",
    "        node_up, node_to_left, node_to_right, node_down = (x, y+1), (x-1, y), (x+1, y), (x, y-1)\n",
    "        lst_nodes = [node_up, node_to_left, node_to_right, node_down]\n",
    "        is_summable = self._restrict_edge_values(NUM_PARTICLES, *lst_nodes)\n",
    "        nodes_to_be_summed = list(compress(lst_nodes, is_summable))\n",
    "        spin_value_of_nodes = self._get_spin_value(spin_values_matrix, nodes_to_be_summed)\n",
    "        return np.sum(list(spin_value_of_nodes))\n",
    "    \n",
    "    def _initialize(self) -> Tuple[np.matrix, np.array]:\n",
    "        \"\"\"\n",
    "        Creates initial variables\n",
    "        \"\"\"\n",
    "        if self.frame_width is None:\n",
    "            self.frame_width = self.frame_length\n",
    "        x_axis, y_axis = self._create_axes()\n",
    "        matrix = self._create_initial_field_matrix()\n",
    "        return x_axis, y_axis, matrix\n",
    "    \n",
    "    def _should_turn(self, prob_spin: float, matrix, x, y) -> bool:\n",
    "        \"\"\"\n",
    "        Determines if particle should spin\n",
    "        Paramters:\n",
    "        ----------\n",
    "        prob_spin: float - calculated probability that given spin will flip its value\n",
    "        \"\"\"\n",
    "        return np.where(prob_spin < np.random.rand(), True, False)"
   ]
  },
  {
   "cell_type": "code",
   "execution_count": 4,
   "metadata": {},
   "outputs": [],
   "source": [
    "class Logging:\n",
    "    \n",
    "    def _logs_exist(self, path):\n",
    "        return os.path.isfile(path)\n",
    "    \n",
    "    def _write_to_file(\n",
    "        self, \n",
    "        timestamp: datetime.datetime.timestamp, \n",
    "        iter: int, \n",
    "        prob: float, \n",
    "        should_turn: bool, \n",
    "        x: int, \n",
    "        y: int\n",
    "    ) -> None:\n",
    "        \"\"\"\n",
    "        Writes log to file\n",
    "        \n",
    "        Parameters:\n",
    "        -----------\n",
    "        timestamp: datetime.datetime.timestamp - timestamp of data entry\n",
    "        iter: int - iteration number\n",
    "        prob: float - probability of node spinning\n",
    "        should_turn: bool - decision if the nodes spin value will flip\n",
    "        x: int - x coordinate\n",
    "        y: int - y coordinate \n",
    "        \"\"\"\n",
    "        if len(str(iter)) < 4:\n",
    "            self.f.write(\n",
    "                f\"timestamp: {timestamp} simulation: {iter} \\t\\t prob_spin: {prob} \\t {should_turn} \\t x: {x} \\t y: {y}\"\n",
    "            )\n",
    "        else:\n",
    "            self.f.write(\n",
    "                f\"timestamp: {timestamp} simulation: {iter} \\t\\t prob_spin: {prob} \\t {should_turn} \\t x: {x} \\t y: {y}\"\n",
    "            )\n",
    "            \n",
    "    def _print_log(\n",
    "        self, \n",
    "        timestamp: datetime.datetime.timestamp, \n",
    "        iter: int, \n",
    "        prob: float, \n",
    "        should_turn: bool, \n",
    "        x: int, \n",
    "        y: int\n",
    "    ) -> None:\n",
    "        \"\"\"\n",
    "        Prints out log to terminal\n",
    "        \n",
    "        Parameters:\n",
    "        -----------\n",
    "        timestamp: datetime.datetime.timestamp - timestamp of data entry\n",
    "        iter: int - iteration number\n",
    "        prob: float - probability of node spinning\n",
    "        should_turn: bool - decision if the nodes spin value will flip\n",
    "        x: int - x coordinate\n",
    "        y: int - y coordinate \n",
    "        \"\"\"\n",
    "        if len(str(iter)) < 4:\n",
    "            print(\n",
    "                f\"timestamp: {timestamp} simulation: {iter} \\t\\t prob_spin: {prob} \\t {should_turn} \\t x: {x} \\t y: {y}\"\n",
    "            )\n",
    "        else:\n",
    "            print(\n",
    "                f\"timestamp: {timestamp} simulation: {iter} \\t\\t prob_spin: {prob} \\t {should_turn} \\t x: {x} \\t y: {y}\"\n",
    "            )\n",
    "    \n",
    "    def _get_log(self, iter: int, prob_spin: float, x: int, y: int, to_file: bool) -> None:\n",
    "        \"\"\"\n",
    "        Prints out or writes out log\n",
    "        Paramters:\n",
    "        ----------\n",
    "        iter: int - current iteration number\n",
    "        prob_spin: float - probability that node given coordinates will spin\n",
    "        x: - position on x axis\n",
    "        y: - position on y axis\n",
    "        to_file: bool - should this be printed out to file?\n",
    "        \"\"\"\n",
    "        timestamp = datetime.datetime.now().timestamp()\n",
    "        prob = np.round(prob_spin, 3)\n",
    "        should_turn = self._should_turn(prob_spin)\n",
    "        path = \"\"\n",
    "        if not self._logs_exist(path):\n",
    "            f = open(\"./logs/logs.txt\", \"w\")\n",
    "            f.write(\"logs: \\n\")\n",
    "            f.close()\n",
    "        \n",
    "        if to_file:\n",
    "            self.f = open(f\"./logs/logs.txt\", \"a\")\n",
    "            self._write_to_file(timestamp, iter, prob_spin, should_turn, x, y)\n",
    "            self.f.close()\n",
    "        else:\n",
    "            self._print_log(timestamp, iter, prob_spin, should_turn, x, y)"
   ]
  },
  {
   "cell_type": "code",
   "execution_count": 5,
   "metadata": {},
   "outputs": [],
   "source": [
    "class Plotter:\n",
    "    \"\"\"\n",
    "    Plots snapshot of matrix\n",
    "    \"\"\"\n",
    "    def __init__(self, plot_name: str, figsize: Tuple[int, int], folder: str):\n",
    "        self.plot_name = plot_name\n",
    "        self.figsize = figsize\n",
    "        self.folder = folder\n",
    "        \n",
    "    def _plot_grid(self, spin_field_matrix: np.matrix, iter: int, param: str) -> None:\n",
    "        plt.figure(figsize=(6, 6), )\n",
    "        plt.rcParams.update({'font.size': 14})\n",
    "        plot = sns.heatmap(spin_field_matrix, cbar=False, annot=True)\n",
    "        #if iter == 0:\n",
    "        #    plt.title(f\"Počáteční rozložení spinů\", fontsize=20)\n",
    "        #elif iter > 900:\n",
    "        #    plt.title(f\"Rozložení spinů po 1000. iteraci\", fontsize=20)\n",
    "        #else:\n",
    "        #    plt.title(f\"Rozložení spinů po {iter -1}. iteraci\", fontsize=20)\n",
    "        #plt.xlabel('x', fontsize=20)\n",
    "        #plt.ylabel('y', fontsize=20)\n",
    "        fig = plot.get_figure()\n",
    "        fig.savefig(\n",
    "            f\"./data/{self.folder}/field_{self.plot_name}_{param}_num_iter_{iter}_{datetime.datetime.now().date()}.png\"\n",
    "        )\n",
    "\n",
    "        fig.clf()\n",
    "\n",
    "    def gibbs_distribution(self, energy: np.array) -> np.array:\n",
    "        \"\"\"\n",
    "        Samples from gibbs distribution\n",
    "        \"\"\"\n",
    "        return np.exp(- energy / self.beta)\n",
    "    \n",
    "    def _get_histogram_data(self, sampled_matrices: np.matrix) -> Tuple[List[str]]:\n",
    "        \"\"\"\n",
    "        Gets data for histogram\n",
    "        \"\"\"\n",
    "        df = pd.DataFrame({\"a\": sampled_matrices})\n",
    "        self.df = df\n",
    "        counts = df.groupby(\"a\")['a'].count() # each unique sampled matrice count\n",
    "        return [i for i in counts]\n",
    "    \n",
    "    def _plot_distribution_function(self, sampled_matrices: List[np.matrix], iter: int):\n",
    "        \"\"\"\n",
    "        Plots histogram of field configuration and Gibbs distribution\n",
    "        Parameters:\n",
    "        -----------\n",
    "        sampled_matrices: List[np.matrix] - all configurations that have been sampled\n",
    "        iter: int - number of iteration\n",
    "        \"\"\"\n",
    "        plt.close()\n",
    "        vals = self._get_histogram_data(sampled_matrices)\n",
    "        energies = np.linspace(1, 15, 15)\n",
    "        probabilities = self.gibbs_distribution(energies)\n",
    "        plt.figure(figsize=(10, 8))\n",
    "        #plt.hist(vals, bins = np.linspace(0, 29, 29), density=True, label=\"Histogram rozdělení mřížky Isingova modelu\") #label=\"Histogram rozdělení mřížky Isingova modelu\"\n",
    "        #plt.plot(energies, probabilities, label=\"Gibbsovo rozdělení\") # legend=\"Gibbsovo rozdělení\"\n",
    "        plt.step(energies, probabilities, where='post', linestyle='-', drawstyle='steps')\n",
    "        plt.hist(vals, density=True, bins = energies, label=\"Histogram rozdělení mřížky Isingova modelu\") #label=\"Histogram rozdělení mřížky Isingova modelu\"\n",
    "        plt.xlabel('Konfigurace mřížky')\n",
    "        plt.ylabel('Poměr mřížek ')\n",
    "        if iter <= 1:\n",
    "            plt.title(f'Rozdělení stavů mřížky po 1. iteraci')\n",
    "        elif iter > 900:\n",
    "            plt.title(f'Rozdělení stavů mřížky po 1000. iteraci')\n",
    "        else:\n",
    "            plt.title(f'Rozdělení stavů mřížky po {iter - 1} iteraci')\n",
    "        plt.savefig(f\"./data/hist_{self.beta}/hist_{iter}.png\")\n",
    "        plt.clf()\n",
    "        \n",
    "        \n",
    "    def _plot_distribution(\n",
    "        self,\n",
    "        iter: int,\n",
    "        sampled_matrices: np.matrix\n",
    "    ) -> None:\n",
    "        \"\"\"\n",
    "        Logs values and prints results\n",
    "        \"\"\"\n",
    "        return self._plot_distribution_function(sampled_matrices, iter)"
   ]
  },
  {
   "cell_type": "code",
   "execution_count": 6,
   "metadata": {},
   "outputs": [],
   "source": [
    "class GlauberDynamicsWithoutTemperatureField(GlauberDynamics, GlauberHelperFunctions, Logging, Plotter):\n",
    "    \"\"\"\n",
    "    Class that simulates Ising model using Glauber dynamics not considering Temperature field\n",
    "    \"\"\"\n",
    "    def __init__(\n",
    "        self, \n",
    "        num_iterations: int, \n",
    "        beta: float,\n",
    "        frame_length: int, \n",
    "        plot_name: str, \n",
    "        folder: str, \n",
    "        frame_width: Optional[int] = None, \n",
    "        figsize: Optional[Tuple[int, int]] = tuple((12, 8))  \n",
    "    ):\n",
    "        \"\"\"\n",
    "        num_iterations: int - number of Glauber Dynamics simulations\n",
    "        beta: float - coefficient describing influence of energy function. (beta >= 0)\n",
    "        frame_length: int - frame length\n",
    "        plot_name: str - plot name (with/ without temperature)\n",
    "        folder: str - where should the plot be stored\n",
    "        frame_width: Optional[int] - frame width, Optional argument, if not declared will create square matrix size: frame_length x frame_length\n",
    "        figsize: Optional[Tuple[int, int]] = tuple((12, 8)) - figure size\n",
    "        \"\"\"\n",
    "        self.num_iterations = num_iterations\n",
    "        self.beta = beta\n",
    "        if self.beta < 0:\n",
    "            raise ValueError(f\"parameter beta has to be at least 0. Yours was: {self.beta}\")\n",
    "        GlauberHelperFunctions.__init__(self, frame_length, frame_width)\n",
    "        Plotter.__init__(self, plot_name, figsize, folder)\n",
    "            \n",
    "    def _probability_spin(self, sum_neighbors: int) -> float:\n",
    "        \"\"\"\n",
    "        Calculates probability that particle given coordinates will spin\n",
    "        Paramters: \n",
    "        ----------\n",
    "        beta: float - coefficient describing influence of energy function\n",
    "        \"\"\"\n",
    "        prob_spin = (1 + np.tanh(self.beta * sum_neighbors)) / 2\n",
    "        return  np.round(prob_spin, 3)\n",
    "            \n",
    "    def simulate(self, plotting_cond: int, spins: Optional[np.array] = None) -> None:\n",
    "        \"\"\"\n",
    "        Simulates Ising model using Glauber Dynamics\n",
    "        Parameters:\n",
    "        -----------\n",
    "        log_to_file: bool - should log be saved to file?\n",
    "        \"\"\"\n",
    "\n",
    "        sampled_matrices, counter_spinning, self.timestamp = [], 0, datetime.datetime.now().timestamp()\n",
    "        if spins is not None:\n",
    "            matrix = spins.reshape([self.frame_length, self.frame_length])\n",
    "            print(matrix.shape)\n",
    "            self.frame_width = matrix.shape[1]\n",
    "            self.frame_length = self.frame_width\n",
    "            \n",
    "        x_coords, y_coords, matrix = self._initialize()\n",
    "        for iter in range(self.num_iterations):\n",
    "            flatted_matrix = matrix.flatten()\n",
    "            sampled_matrices.append(tuple(flatted_matrix))\n",
    "            if iter == 0: # plot initial state\n",
    "                self._plot_grid(matrix, iter, self.beta)\n",
    "            if iter % plotting_cond == 1: # plot only few iterations\n",
    "                self._plot_distribution(iter, sampled_matrices)\n",
    "                self._plot_grid(matrix, iter, self.beta)\n",
    "            x, y = self._select_random_coordinates(x_coords, y_coords)\n",
    "            sum_neighbors_value = self._sum_neighbors(x, y, matrix, self.frame_length)\n",
    "            prob_spin = self._probability_spin(sum_neighbors_value)\n",
    "            if self._should_turn(prob_spin, matrix, x, y):\n",
    "                counter_spinning += 1\n",
    "                temp_matrix = np.copy(matrix)\n",
    "                temp_matrix[x, y] = -temp_matrix[x, y]\n",
    "                matrix = np.copy(temp_matrix)\n",
    "        return sampled_matrices"
   ]
  },
  {
   "cell_type": "code",
   "execution_count": 7,
   "metadata": {},
   "outputs": [],
   "source": [
    "class GlauberDynamicsWithTemperatureField(GlauberDynamics, GlauberHelperFunctions, Logging, Plotter):\n",
    "    \"\"\"\n",
    "    Class that simulates Ising model using Glauber dynamics not considering Temperature field\n",
    "    \"\"\"\n",
    "    def __init__(\n",
    "        self, \n",
    "        num_iterations: int,  \n",
    "        frame_length: int, \n",
    "        beta: float, \n",
    "        plot_name: str, \n",
    "        folder: str, \n",
    "        frame_width: Optional[int] = None,\n",
    "        figsize: Optional[Tuple[int, int]] = tuple((12, 8))\n",
    "    ):\n",
    "        \"\"\"\n",
    "        num_iterations: int - number of Glauber Dynamics simulations\n",
    "        temperature: float - temperature of temperature field\n",
    "        frame_length: int - frame length\n",
    "        plot_name: str - plot name (with/ without temperature)\n",
    "        folder: str - where should the plot be stored\n",
    "        frame_width: Optional[int] - frame width, Optional argument, if not declared will create square matrix size: frame_length x frame_length\n",
    "        figsize: Optional[Tuple[int, int]] = tuple((12, 8)) - figure size\n",
    "        \"\"\"\n",
    "        self.num_iterations = num_iterations\n",
    "        self.beta = beta\n",
    "        GlauberHelperFunctions.__init__(self, frame_length, frame_width)\n",
    "        Plotter.__init__(self, plot_name, figsize, folder)\n",
    "        \n",
    "    def _probability_spin(self, sum_neighbors: int, matrix: np.matrix, x: int, y: int) -> float:\n",
    "        \"\"\"\n",
    "        Calculates probability that particle given coordinates will spin\n",
    "        Paramters: \n",
    "        ----------\n",
    "        beta: float - coefficient describing influence of energy function\n",
    "        \"\"\"\n",
    "        delta_E = 2 * sum_neighbors * matrix[x,y]\n",
    "        temperature = self.beta\n",
    "        prob_spin = np.exp(-delta_E / temperature) / (1 + np.exp(-delta_E / temperature))\n",
    "        return np.round(prob_spin, 3)\n",
    "    \n",
    "    def simulate(self,  plotting_cond: int, spins: Optional[np.matrix] = None) -> None:\n",
    "        \"\"\"\n",
    "        Simulates Ising model using Glauber Dynamics\n",
    "        Parameters:\n",
    "        -----------\n",
    "        log_to_file: bool - should log be saved to file?\n",
    "        \"\"\"\n",
    "\n",
    "        sampled_matrices, counter_spinning, self.timestamp = [], 0, datetime.datetime.now().timestamp()\n",
    "        if spins is not None:\n",
    "            matrix = spins.reshape([self.frame_length, self.frame_length])\n",
    "            self.frame_width = matrix.shape[1]\n",
    "            self.frame_length = self.frame_width\n",
    "            \n",
    "        x_coords, y_coords, matrix = self._initialize()\n",
    "        for iter in range(self.num_iterations):\n",
    "            flatted_matrix = matrix.flatten()\n",
    "            sampled_matrices.append(tuple(flatted_matrix))\n",
    "            if iter == 0:\n",
    "                self._plot_grid(matrix, iter, self.beta)\n",
    "            if iter % plotting_cond == 1:\n",
    "                self._plot_distribution(iter, sampled_matrices)\n",
    "                self._plot_grid(matrix, iter, self.beta)\n",
    "            x, y = self._select_random_coordinates(x_coords, y_coords)\n",
    "            sum_neighbors_value = self._sum_neighbors(x, y, matrix, self.frame_length)\n",
    "            prob_spin = self._probability_spin(sum_neighbors_value, matrix, x, y)\n",
    "            if self._should_turn(prob_spin):\n",
    "                counter_spinning += 1\n",
    "                temp_matrix = np.copy(matrix)\n",
    "                temp_matrix[x, y] = -temp_matrix[x, y]\n",
    "                matrix = np.copy(temp_matrix)\n",
    "        return sampled_matrices"
   ]
  },
  {
   "cell_type": "code",
   "execution_count": 8,
   "metadata": {},
   "outputs": [],
   "source": [
    "BASE = \"data\"\n",
    "NUM_ITERATIONS = 10000\n",
    "FRAME_SIZE = 5\n",
    "PLOTTING_CONDITION = int(np.floor(NUM_ITERATIONS / 5))"
   ]
  },
  {
   "cell_type": "code",
   "execution_count": 9,
   "metadata": {},
   "outputs": [
    {
     "name": "stdout",
     "output_type": "stream",
     "text": [
      "(5, 5)\n"
     ]
    },
    {
     "data": {
      "text/plain": [
       "<Figure size 1000x800 with 0 Axes>"
      ]
     },
     "metadata": {},
     "output_type": "display_data"
    },
    {
     "data": {
      "text/plain": [
       "<Figure size 1000x800 with 0 Axes>"
      ]
     },
     "metadata": {},
     "output_type": "display_data"
    },
    {
     "data": {
      "text/plain": [
       "<Figure size 1000x800 with 0 Axes>"
      ]
     },
     "metadata": {},
     "output_type": "display_data"
    },
    {
     "data": {
      "text/plain": [
       "<Figure size 1000x800 with 0 Axes>"
      ]
     },
     "metadata": {},
     "output_type": "display_data"
    },
    {
     "data": {
      "text/plain": [
       "<Figure size 1000x800 with 0 Axes>"
      ]
     },
     "metadata": {},
     "output_type": "display_data"
    },
    {
     "data": {
      "text/plain": [
       "<Figure size 600x600 with 0 Axes>"
      ]
     },
     "metadata": {},
     "output_type": "display_data"
    }
   ],
   "source": [
    "beta = 1\n",
    "plt.close()\n",
    "[os.remove(f\"{file}\") for file in os.listdir(\".\") if \"txt\" in file]\n",
    "if os.path.isdir(f\"./data/without_temp_{beta}\"):\n",
    "    shutil.rmtree(f\"./data/without_temp_{beta}\")\n",
    "os.mkdir(f\"./data/without_temp_{beta}\")\n",
    "#os.mkdir(f\"./data/hist_{beta}\")\n",
    "[os.remove(f\"./data/{file}\") for file in os.listdir(\"./data\") if \"png\" in file]\n",
    "[os.remove(f\"./data/hist/{file}\") for file in os.listdir(\"./data/hist\") if \"png\" in file]\n",
    "\n",
    "ising_model = GlauberDynamicsWithoutTemperatureField(\n",
    "    num_iterations=NUM_ITERATIONS,\n",
    "    beta=beta,\n",
    "    frame_length=FRAME_SIZE,\n",
    "    plot_name = \"without_temp\",\n",
    "    folder = \"\",#f\"without_temp_{beta}\"\n",
    "    \n",
    ")\n",
    "spins = np.random.choice([-1, 1], FRAME_SIZE**2)\n",
    "matrices_lst = ising_model.simulate(plotting_cond=PLOTTING_CONDITION, spins=spins)\n",
    "\n"
   ]
  },
  {
   "cell_type": "code",
   "execution_count": null,
   "metadata": {},
   "outputs": [],
   "source": []
  },
  {
   "cell_type": "code",
   "execution_count": 10,
   "metadata": {},
   "outputs": [],
   "source": [
    "ising_model.df['sum'] = ising_model.df['a'].apply(lambda x: sum(x))\n",
    "counts = ising_model.df.groupby('sum')['sum'].count()\n",
    "#counts = [i for i in counts]"
   ]
  },
  {
   "cell_type": "code",
   "execution_count": 11,
   "metadata": {},
   "outputs": [
    {
     "data": {
      "text/plain": [
       "sum\n",
       "-17.0       3\n",
       "-15.0      15\n",
       "-13.0      57\n",
       "-11.0     140\n",
       "-9.0      265\n",
       "-7.0      432\n",
       "-5.0      685\n",
       "-3.0      955\n",
       "-1.0     1149\n",
       " 1.0     1174\n",
       " 3.0     1054\n",
       " 5.0      890\n",
       " 7.0      623\n",
       " 9.0      369\n",
       " 11.0     130\n",
       " 13.0      39\n",
       " 15.0      22\n",
       "Name: sum, dtype: int64"
      ]
     },
     "execution_count": 11,
     "metadata": {},
     "output_type": "execute_result"
    }
   ],
   "source": [
    "counts"
   ]
  },
  {
   "cell_type": "code",
   "execution_count": 12,
   "metadata": {},
   "outputs": [
    {
     "data": {
      "text/html": [
       "<div>\n",
       "<style scoped>\n",
       "    .dataframe tbody tr th:only-of-type {\n",
       "        vertical-align: middle;\n",
       "    }\n",
       "\n",
       "    .dataframe tbody tr th {\n",
       "        vertical-align: top;\n",
       "    }\n",
       "\n",
       "    .dataframe thead th {\n",
       "        text-align: right;\n",
       "    }\n",
       "</style>\n",
       "<table border=\"1\" class=\"dataframe\">\n",
       "  <thead>\n",
       "    <tr style=\"text-align: right;\">\n",
       "      <th></th>\n",
       "      <th>Unnamed: 0</th>\n",
       "      <th>a</th>\n",
       "      <th>sum</th>\n",
       "    </tr>\n",
       "  </thead>\n",
       "  <tbody>\n",
       "    <tr>\n",
       "      <th>0</th>\n",
       "      <td>0</td>\n",
       "      <td>(1.0, 1.0, 1.0, 1.0, -1.0, -1.0, 1.0, 1.0, -1....</td>\n",
       "      <td>-5.0</td>\n",
       "    </tr>\n",
       "    <tr>\n",
       "      <th>1</th>\n",
       "      <td>1</td>\n",
       "      <td>(1.0, 1.0, 1.0, 1.0, -1.0, -1.0, 1.0, 1.0, -1....</td>\n",
       "      <td>-3.0</td>\n",
       "    </tr>\n",
       "    <tr>\n",
       "      <th>2</th>\n",
       "      <td>2</td>\n",
       "      <td>(1.0, 1.0, 1.0, 1.0, -1.0, -1.0, 1.0, 1.0, -1....</td>\n",
       "      <td>-3.0</td>\n",
       "    </tr>\n",
       "    <tr>\n",
       "      <th>3</th>\n",
       "      <td>3</td>\n",
       "      <td>(1.0, 1.0, 1.0, 1.0, -1.0, -1.0, 1.0, 1.0, -1....</td>\n",
       "      <td>-5.0</td>\n",
       "    </tr>\n",
       "    <tr>\n",
       "      <th>4</th>\n",
       "      <td>4</td>\n",
       "      <td>(1.0, 1.0, 1.0, 1.0, -1.0, -1.0, 1.0, 1.0, -1....</td>\n",
       "      <td>-5.0</td>\n",
       "    </tr>\n",
       "    <tr>\n",
       "      <th>...</th>\n",
       "      <td>...</td>\n",
       "      <td>...</td>\n",
       "      <td>...</td>\n",
       "    </tr>\n",
       "    <tr>\n",
       "      <th>7997</th>\n",
       "      <td>7997</td>\n",
       "      <td>(1.0, -1.0, -1.0, -1.0, -1.0, 1.0, 1.0, 1.0, 1...</td>\n",
       "      <td>-1.0</td>\n",
       "    </tr>\n",
       "    <tr>\n",
       "      <th>7998</th>\n",
       "      <td>7998</td>\n",
       "      <td>(1.0, -1.0, -1.0, -1.0, -1.0, 1.0, 1.0, 1.0, 1...</td>\n",
       "      <td>-1.0</td>\n",
       "    </tr>\n",
       "    <tr>\n",
       "      <th>7999</th>\n",
       "      <td>7999</td>\n",
       "      <td>(1.0, -1.0, -1.0, -1.0, -1.0, 1.0, 1.0, 1.0, 1...</td>\n",
       "      <td>-1.0</td>\n",
       "    </tr>\n",
       "    <tr>\n",
       "      <th>8000</th>\n",
       "      <td>8000</td>\n",
       "      <td>(1.0, -1.0, -1.0, -1.0, -1.0, 1.0, 1.0, 1.0, 1...</td>\n",
       "      <td>1.0</td>\n",
       "    </tr>\n",
       "    <tr>\n",
       "      <th>8001</th>\n",
       "      <td>8001</td>\n",
       "      <td>(-1.0, -1.0, -1.0, -1.0, -1.0, 1.0, 1.0, 1.0, ...</td>\n",
       "      <td>-1.0</td>\n",
       "    </tr>\n",
       "  </tbody>\n",
       "</table>\n",
       "<p>8002 rows × 3 columns</p>\n",
       "</div>"
      ],
      "text/plain": [
       "      Unnamed: 0                                                  a  sum\n",
       "0              0  (1.0, 1.0, 1.0, 1.0, -1.0, -1.0, 1.0, 1.0, -1.... -5.0\n",
       "1              1  (1.0, 1.0, 1.0, 1.0, -1.0, -1.0, 1.0, 1.0, -1.... -3.0\n",
       "2              2  (1.0, 1.0, 1.0, 1.0, -1.0, -1.0, 1.0, 1.0, -1.... -3.0\n",
       "3              3  (1.0, 1.0, 1.0, 1.0, -1.0, -1.0, 1.0, 1.0, -1.... -5.0\n",
       "4              4  (1.0, 1.0, 1.0, 1.0, -1.0, -1.0, 1.0, 1.0, -1.... -5.0\n",
       "...          ...                                                ...  ...\n",
       "7997        7997  (1.0, -1.0, -1.0, -1.0, -1.0, 1.0, 1.0, 1.0, 1... -1.0\n",
       "7998        7998  (1.0, -1.0, -1.0, -1.0, -1.0, 1.0, 1.0, 1.0, 1... -1.0\n",
       "7999        7999  (1.0, -1.0, -1.0, -1.0, -1.0, 1.0, 1.0, 1.0, 1... -1.0\n",
       "8000        8000  (1.0, -1.0, -1.0, -1.0, -1.0, 1.0, 1.0, 1.0, 1...  1.0\n",
       "8001        8001  (-1.0, -1.0, -1.0, -1.0, -1.0, 1.0, 1.0, 1.0, ... -1.0\n",
       "\n",
       "[8002 rows x 3 columns]"
      ]
     },
     "execution_count": 12,
     "metadata": {},
     "output_type": "execute_result"
    }
   ],
   "source": [
    "pd.read_csv(\"test.csv\")"
   ]
  },
  {
   "cell_type": "code",
   "execution_count": 13,
   "metadata": {},
   "outputs": [
    {
     "data": {
      "text/plain": [
       "[<matplotlib.lines.Line2D at 0x288e58610>]"
      ]
     },
     "execution_count": 13,
     "metadata": {},
     "output_type": "execute_result"
    },
    {
     "data": {
      "image/png": "[encoded data removed]",
      "text/plain": [
       "<Figure size 640x480 with 1 Axes>"
      ]
     },
     "metadata": {},
     "output_type": "display_data"
    }
   ],
   "source": [
    "def gibbs(energy):\n",
    "    return np.exp(- energy)\n",
    "\n",
    "\n",
    "energies = np.linspace(-15, 15, 30)\n",
    "\n",
    "v = gibbs(energies)\n",
    "plt.step(energies, v, where='mid', linestyle='-', drawstyle='steps')"
   ]
  },
  {
   "cell_type": "code",
   "execution_count": 14,
   "metadata": {},
   "outputs": [
    {
     "name": "stdout",
     "output_type": "stream",
     "text": [
      "[1174, 1149, 1054, 955, 890, 685, 623, 432, 369, 265, 140, 130, 57, 39, 22, 15, 3]\n"
     ]
    }
   ],
   "source": [
    "print(sorted(counts, reverse=True))"
   ]
  },
  {
   "cell_type": "code",
   "execution_count": 15,
   "metadata": {},
   "outputs": [
    {
     "data": {
      "image/png": "[encoded data removed]",
      "text/plain": [
       "<Figure size 1000x600 with 1 Axes>"
      ]
     },
     "metadata": {},
     "output_type": "display_data"
    }
   ],
   "source": [
    "flattened_samples = matrices_lst\n",
    "unique_configs, counts = np.unique(flattened_samples, axis=0, return_counts=True)\n",
    "\n",
    "# Normalize counts to get probabilities\n",
    "probabilities = counts / np.sum(counts)\n",
    "\n",
    "# Sort configurations and probabilities for plotting\n",
    "sorted_indices = np.argsort(probabilities)[::-1]  # Sort indices in descending order\n",
    "sorted_probabilities = probabilities[sorted_indices]\n",
    "\n",
    "# Plotting the stationary distribution\n",
    "plt.figure(figsize=(10, 6))\n",
    "plt.bar(range(len(sorted_probabilities)), sorted_probabilities, color='blue')\n",
    "plt.step(energies, v, where='mid', linestyle='-', drawstyle='steps')\n",
    "plt.xlabel('Configuration Index')\n",
    "plt.ylabel('Probability')\n",
    "plt.title('Stationary Distribution of Ising Model')\n",
    "plt.grid(True)\n",
    "plt.show()"
   ]
  },
  {
   "cell_type": "code",
   "execution_count": 16,
   "metadata": {},
   "outputs": [
    {
     "data": {
      "image/png": "[encoded data removed]",
      "text/plain": [
       "<Figure size 1000x600 with 1 Axes>"
      ]
     },
     "metadata": {},
     "output_type": "display_data"
    }
   ],
   "source": [
    "vals = ising_model._get_histogram_data(matrices_lst)\n",
    "energies = np.linspace(1, 15, 15)\n",
    "\n",
    "v = ising_model.gibbs_distribution(energies)\n",
    "plt.figure(figsize=(10, 6))\n",
    "plt.hist(sorted(counts), bins=np.linspace(1, 15, 15), density=True)\n",
    "plt.step(energies, v, where='post', linestyle='-', drawstyle='steps')\n",
    "plt.show()"
   ]
  },
  {
   "cell_type": "code",
   "execution_count": 17,
   "metadata": {},
   "outputs": [
    {
     "data": {
      "text/plain": [
       "'\\nTEMPERATURES = [0.8, 0.95, 1.05, 1.2]\\n\\nfor temp in TEMPERATURES:\\n    if os.path.isdir(f\"./data/hist_{temp}\"):\\n        shutil.rmtree(f\"./data/hist_{temp}\")\\n        os.mkdir(f\"./data/hist_{temp}\")\\n    else:\\n        os.mkdir(f\"./data/hist_{temp}\")\\n    if os.path.isdir(f\"./data/with_temp_{temp}\"):\\n        shutil.rmtree(f\"./data/with_temp_{temp}\")\\n        os.mkdir(f\"./data/with_temp_{temp}\")\\n    else:\\n        os.mkdir(f\"./data/with_temp_{temp}\")\\n    \\n    ising_model = GlauberDynamicsWithTemperatureField(\\n        num_iterations=NUM_ITERATIONS,\\n        frame_length=FRAME_SIZE,\\n        beta=temp,\\n        plot_name=\"with_temp_field\",\\n        folder = f\"with_temp_{temp}\"\\n        \\n    )\\n    matrices_lst = ising_model.simulate(plotting_cond=PLOTTING_CONDITION, spins=spins)\\n'"
      ]
     },
     "execution_count": 17,
     "metadata": {},
     "output_type": "execute_result"
    }
   ],
   "source": [
    "'''\n",
    "TEMPERATURES = [0.8, 0.95, 1.05, 1.2]\n",
    "\n",
    "for temp in TEMPERATURES:\n",
    "    if os.path.isdir(f\"./data/hist_{temp}\"):\n",
    "        shutil.rmtree(f\"./data/hist_{temp}\")\n",
    "        os.mkdir(f\"./data/hist_{temp}\")\n",
    "    else:\n",
    "        os.mkdir(f\"./data/hist_{temp}\")\n",
    "    if os.path.isdir(f\"./data/with_temp_{temp}\"):\n",
    "        shutil.rmtree(f\"./data/with_temp_{temp}\")\n",
    "        os.mkdir(f\"./data/with_temp_{temp}\")\n",
    "    else:\n",
    "        os.mkdir(f\"./data/with_temp_{temp}\")\n",
    "    \n",
    "    ising_model = GlauberDynamicsWithTemperatureField(\n",
    "        num_iterations=NUM_ITERATIONS,\n",
    "        frame_length=FRAME_SIZE,\n",
    "        beta=temp,\n",
    "        plot_name=\"with_temp_field\",\n",
    "        folder = f\"with_temp_{temp}\"\n",
    "        \n",
    "    )\n",
    "    matrices_lst = ising_model.simulate(plotting_cond=PLOTTING_CONDITION, spins=spins)\n",
    "'''"
   ]
  },
  {
   "cell_type": "code",
   "execution_count": 18,
   "metadata": {},
   "outputs": [
    {
     "ename": "NameError",
     "evalue": "name 'm' is not defined",
     "output_type": "error",
     "traceback": [
      "\u001b[0;31m---------------------------------------------------------------------------\u001b[0m",
      "\u001b[0;31mNameError\u001b[0m                                 Traceback (most recent call last)",
      "Cell \u001b[0;32mIn[18], line 1\u001b[0m\n\u001b[0;32m----> 1\u001b[0m \u001b[43mm\u001b[49m\n",
      "\u001b[0;31mNameError\u001b[0m: name 'm' is not defined"
     ]
    }
   ],
   "source": [
    "m"
   ]
  },
  {
   "cell_type": "code",
   "execution_count": null,
   "metadata": {},
   "outputs": [
    {
     "ename": "NameError",
     "evalue": "name 'm' is not defined",
     "output_type": "error",
     "traceback": [
      "\u001b[0;31m---------------------------------------------------------------------------\u001b[0m",
      "\u001b[0;31mNameError\u001b[0m                                 Traceback (most recent call last)",
      "Cell \u001b[0;32mIn[256], line 1\u001b[0m\n\u001b[0;32m----> 1\u001b[0m mm \u001b[38;5;241m=\u001b[39m [\u001b[38;5;28mtuple\u001b[39m(i\u001b[38;5;241m.\u001b[39mflatten()) \u001b[38;5;28;01mfor\u001b[39;00m i \u001b[38;5;129;01min\u001b[39;00m \u001b[43mm\u001b[49m]\n",
      "\u001b[0;31mNameError\u001b[0m: name 'm' is not defined"
     ]
    }
   ],
   "source": [
    "mm = [tuple(i.flatten()) for i in m]"
   ]
  },
  {
   "cell_type": "code",
   "execution_count": null,
   "metadata": {},
   "outputs": [
    {
     "name": "stdout",
     "output_type": "stream",
     "text": [
      "a\n",
      "(-1, -1, 1, -1, -1, 1, 1, 1, 1, -1, -1, -1, 1, 1, 1, 1, -1, 1, 1, 1, -1, 1, -1, 1, -1, 1, -1, 1, -1, 1, 1, -1, 1, 1, 1, -1, 1, -1, -1, -1, 1, 1, 1, -1, 1, -1, 1, -1, 1, -1, -1, 1, 1, 1, -1, -1, 1, 1, -1, -1, 1, -1, -1, -1, 1, 1, 1, 1, 1, -1, -1, -1, -1, 1, 1, 1, -1, 1, -1, -1, -1, 1, 1, 1, 1, -1, 1, 1, 1, -1, -1, 1, -1, -1, -1, 1, -1, 1, 1, -1)    1001\n",
      "Name: a, dtype: int64\n"
     ]
    }
   ],
   "source": [
    "mm = [tuple(i.flatten()) for i in m]\n",
    "test = pd.DataFrame({\"a\": mm})\n",
    "counts = test.groupby(\"a\")[\"a\"].count()\n",
    "#counts = [i for i in counts]\n",
    "print(counts)"
   ]
  }
 ],
 "metadata": {
  "kernelspec": {
   "display_name": "base",
   "language": "python",
   "name": "python3"
  },
  "language_info": {
   "codemirror_mode": {
    "name": "ipython",
    "version": 3
   },
   "file_extension": ".py",
   "mimetype": "text/x-python",
   "name": "python",
   "nbconvert_exporter": "python",
   "pygments_lexer": "ipython3",
   "version": "3.10.8"
  }
 },
 "nbformat": 4,
 "nbformat_minor": 2
}
