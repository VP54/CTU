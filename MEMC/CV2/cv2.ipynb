{
 "cells": [
  {
   "cell_type": "code",
   "execution_count": 1,
   "metadata": {},
   "outputs": [],
   "source": [
    "import numpy as np\n",
    "import matplotlib.pyplot as plt"
   ]
  },
  {
   "cell_type": "code",
   "execution_count": 3,
   "metadata": {},
   "outputs": [],
   "source": [
    "sample = 10e4"
   ]
  },
  {
   "cell_type": "markdown",
   "metadata": {},
   "source": [
    "## Obecne deleni\n",
    "1. rozdelim interval (0, 1) na psti\n",
    "2. pro nahodne generovane x_i z Ro(0, 1)\n",
    "    - pro kazdy interval udelej x_i - intervalova hranice\n",
    "        - pokud vysledek zapornej bod je nalevo pokud kladnej tak jdu dal"
   ]
  },
  {
   "cell_type": "markdown",
   "metadata": {},
   "source": [
    "## Stredni pocet operaci\n",
    "\n",
    "1. E(Y) = Sum (x*p_{xi}) = 1*1/2 + 2*1/3 + 3*1/6 <br>\n",
    "obracene...\n",
    "2. E(Y) = Sum (x*p_{xi}) = 1*1/6 + 2*1/3 + 3*1/2"
   ]
  },
  {
   "cell_type": "code",
   "execution_count": 91,
   "metadata": {},
   "outputs": [
    {
     "data": {
      "text/plain": [
       "<matplotlib.patches.StepPatch at 0x137faad70>"
      ]
     },
     "execution_count": 91,
     "metadata": {},
     "output_type": "execute_result"
    },
    {
     "data": {
      "image/png": "[encoded data removed]",
      "text/plain": [
       "<Figure size 640x480 with 1 Axes>"
      ]
     },
     "metadata": {},
     "output_type": "display_data"
    }
   ],
   "source": [
    "def from_vector(proba_vec, rand_point):\n",
    "    k = 1\n",
    "    sum_proba_vec = np.cumsum(proba_vec)\n",
    "    S = rand_point - sum_proba_vec[k-1]\n",
    "    while S>0:\n",
    "        k += 1\n",
    "        S = rand_point - sum_proba_vec[k-1]\n",
    "        #print(f\"rand_point: {np.round(rand_point, 2)} \\t s: {np.round(S, 2)} \\t p_k: {np.sum(proba_vec[:k])} \\t k: {k - 1}\")\n",
    "    return k - 1\n",
    "\n",
    "proba_vec = [1/2, 1/3, 1/6]\n",
    "SAMPLE_SIZE = 1000\n",
    "lst = []\n",
    "\n",
    "for i in range(SAMPLE_SIZE):\n",
    "    rand_int = np.random.uniform(0, 1)\n",
    "    k = from_vector(proba_vec, rand_int)\n",
    "    lst.append(k)\n",
    "\n",
    "count, bins = np.histogram(lst, bins=[0, 1, 2, 3])\n",
    "plt.stairs(count, bins)"
   ]
  },
  {
   "cell_type": "code",
   "execution_count": 106,
   "metadata": {},
   "outputs": [
    {
     "ename": "TypeError",
     "evalue": "ufunc 'bitwise_xor' not supported for the input types, and the inputs could not be safely coerced to any supported types according to the casting rule ''safe''",
     "output_type": "error",
     "traceback": [
      "\u001b[0;31m---------------------------------------------------------------------------\u001b[0m",
      "\u001b[0;31mTypeError\u001b[0m                                 Traceback (most recent call last)",
      "\u001b[1;32m/Users/vasek/Desktop/programming/python/school/MEMC/CV2/cv2.ipynb Cell 6\u001b[0m line \u001b[0;36m3\n\u001b[1;32m      <a href='vscode-notebook-cell:/Users/vasek/Desktop/programming/python/school/MEMC/CV2/cv2.ipynb#X22sZmlsZQ%3D%3D?line=0'>1</a>\u001b[0m k \u001b[39m=\u001b[39m \u001b[39m3\u001b[39m\n\u001b[0;32m----> <a href='vscode-notebook-cell:/Users/vasek/Desktop/programming/python/school/MEMC/CV2/cv2.ipynb#X22sZmlsZQ%3D%3D?line=2'>3</a>\u001b[0m x \u001b[39m^\u001b[39;49m  np\u001b[39m.\u001b[39;49mexp(\u001b[39m-\u001b[39;49mx) \u001b[39m/\u001b[39;49m math\u001b[39m.\u001b[39;49mfactorial(x)\n",
      "\u001b[0;31mTypeError\u001b[0m: ufunc 'bitwise_xor' not supported for the input types, and the inputs could not be safely coerced to any supported types according to the casting rule ''safe''"
     ]
    }
   ],
   "source": [
    "k = 3\n",
    "\n",
    "x ^ k * np.exp(-x) / math.factorial(x)"
   ]
  },
  {
   "cell_type": "code",
   "execution_count": 100,
   "metadata": {},
   "outputs": [
    {
     "ename": "TypeError",
     "evalue": "ufunc 'bitwise_xor' not supported for the input types, and the inputs could not be safely coerced to any supported types according to the casting rule ''safe''",
     "output_type": "error",
     "traceback": [
      "\u001b[0;31m---------------------------------------------------------------------------\u001b[0m",
      "\u001b[0;31mTypeError\u001b[0m                                 Traceback (most recent call last)",
      "\u001b[1;32m/Users/vasek/Desktop/programming/python/school/MEMC/CV2/cv2.ipynb Cell 7\u001b[0m line \u001b[0;36m7\n\u001b[1;32m      <a href='vscode-notebook-cell:/Users/vasek/Desktop/programming/python/school/MEMC/CV2/cv2.ipynb#X13sZmlsZQ%3D%3D?line=3'>4</a>\u001b[0m \u001b[39mlambda\u001b[39;00m k: x \u001b[39m^\u001b[39m k \u001b[39m*\u001b[39m np\u001b[39m.\u001b[39mexp(\u001b[39m-\u001b[39mx) \u001b[39m/\u001b[39m math\u001b[39m.\u001b[39mfactorial(k)\n\u001b[1;32m      <a href='vscode-notebook-cell:/Users/vasek/Desktop/programming/python/school/MEMC/CV2/cv2.ipynb#X13sZmlsZQ%3D%3D?line=5'>6</a>\u001b[0m numbers \u001b[39m=\u001b[39m [i \u001b[39mfor\u001b[39;00m i \u001b[39min\u001b[39;00m \u001b[39mrange\u001b[39m(\u001b[39m1000\u001b[39m)]\n\u001b[0;32m----> <a href='vscode-notebook-cell:/Users/vasek/Desktop/programming/python/school/MEMC/CV2/cv2.ipynb#X13sZmlsZQ%3D%3D?line=6'>7</a>\u001b[0m (\u001b[39mlambda\u001b[39;49;00m k: x \u001b[39m^\u001b[39;49m k \u001b[39m*\u001b[39;49m np\u001b[39m.\u001b[39;49mexp(\u001b[39m-\u001b[39;49mx) \u001b[39m/\u001b[39;49m math\u001b[39m.\u001b[39;49mfactorial(x))(\u001b[39m3\u001b[39;49m)\n",
      "\u001b[1;32m/Users/vasek/Desktop/programming/python/school/MEMC/CV2/cv2.ipynb Cell 7\u001b[0m line \u001b[0;36m7\n\u001b[1;32m      <a href='vscode-notebook-cell:/Users/vasek/Desktop/programming/python/school/MEMC/CV2/cv2.ipynb#X13sZmlsZQ%3D%3D?line=3'>4</a>\u001b[0m \u001b[39mlambda\u001b[39;00m k: x \u001b[39m^\u001b[39m k \u001b[39m*\u001b[39m np\u001b[39m.\u001b[39mexp(\u001b[39m-\u001b[39mx) \u001b[39m/\u001b[39m math\u001b[39m.\u001b[39mfactorial(k)\n\u001b[1;32m      <a href='vscode-notebook-cell:/Users/vasek/Desktop/programming/python/school/MEMC/CV2/cv2.ipynb#X13sZmlsZQ%3D%3D?line=5'>6</a>\u001b[0m numbers \u001b[39m=\u001b[39m [i \u001b[39mfor\u001b[39;00m i \u001b[39min\u001b[39;00m \u001b[39mrange\u001b[39m(\u001b[39m1000\u001b[39m)]\n\u001b[0;32m----> <a href='vscode-notebook-cell:/Users/vasek/Desktop/programming/python/school/MEMC/CV2/cv2.ipynb#X13sZmlsZQ%3D%3D?line=6'>7</a>\u001b[0m (\u001b[39mlambda\u001b[39;00m k: x \u001b[39m^\u001b[39;49m k \u001b[39m*\u001b[39;49m np\u001b[39m.\u001b[39;49mexp(\u001b[39m-\u001b[39;49mx) \u001b[39m/\u001b[39;49m math\u001b[39m.\u001b[39;49mfactorial(x))(\u001b[39m3\u001b[39m)\n",
      "\u001b[0;31mTypeError\u001b[0m: ufunc 'bitwise_xor' not supported for the input types, and the inputs could not be safely coerced to any supported types according to the casting rule ''safe''"
     ]
    }
   ],
   "source": [
    "import math\n",
    "\n",
    "x = 10\n",
    "lambda k: x ^ k * np.exp(-x) / math.factorial(k)\n",
    "\n",
    "numbers = [i for i in range(1000)]\n",
    "(lambda k: x ^ k * np.exp(-x) / math.factorial(x))(3)"
   ]
  },
  {
   "cell_type": "code",
   "execution_count": 85,
   "metadata": {},
   "outputs": [
    {
     "name": "stdout",
     "output_type": "stream",
     "text": [
      "498\n",
      "329\n",
      "173\n"
     ]
    }
   ],
   "source": [
    "for r in range(3):\n",
    "    print(\n",
    "        len(\n",
    "            [i for i in lst if i == r]\n",
    "        )\n",
    "    )"
   ]
  }
 ],
 "metadata": {
  "kernelspec": {
   "display_name": "base",
   "language": "python",
   "name": "python3"
  },
  "language_info": {
   "codemirror_mode": {
    "name": "ipython",
    "version": 3
   },
   "file_extension": ".py",
   "mimetype": "text/x-python",
   "name": "python",
   "nbconvert_exporter": "python",
   "pygments_lexer": "ipython3",
   "version": "3.10.8"
  }
 },
 "nbformat": 4,
 "nbformat_minor": 2
}
