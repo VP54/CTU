{
 "cells": [
  {
   "cell_type": "code",
   "execution_count": 1,
   "metadata": {},
   "outputs": [],
   "source": [
    "import pandas as pd\n",
    "import numpy as np\n",
    "\n"
   ]
  },
  {
   "cell_type": "code",
   "execution_count": 6,
   "metadata": {},
   "outputs": [
    {
     "data": {
      "text/plain": [
       "4983.731808731809"
      ]
     },
     "execution_count": 6,
     "metadata": {},
     "output_type": "execute_result"
    }
   ],
   "source": [
    "df = pd.read_csv('test.csv')\n",
    "\n",
    "lst = []\n",
    "for i in df['nums']:\n",
    "    if i > 4735 and i < 5230:\n",
    "        lst.append(i)\n",
    "\n",
    "\n",
    "sum(lst) / len(lst)"
   ]
  },
  {
   "cell_type": "code",
   "execution_count": 43,
   "metadata": {},
   "outputs": [
    {
     "name": "stdout",
     "output_type": "stream",
     "text": [
      "printim\n"
     ]
    }
   ],
   "source": [
    "class Fraction:\n",
    "\n",
    "    def __init__(self, num, den):\n",
    "        # \"constructor\", more precisely \"initializer\"\n",
    "        # initialize Fraction here\n",
    "        self.num = num\n",
    "        self.den = den\n",
    "\n",
    "    def __repr__(self):\n",
    "        print('printim')\n",
    "        return f\"{self.num}/{self.den}\"\n",
    "\n",
    "    def normalize(self):\n",
    "        # from this Fraction get normalized Fraction, return normalized Fraction\n",
    "        pass\n",
    "\n",
    "    def __eq__(self, other):\n",
    "        # magic method for comparison ==\n",
    "        # compare two fractions if they are same\n",
    "        # two Fractions are same if their normalized numerators and denominators are equal respectively\n",
    "        # example 1/3 is equal to 2/6, 1/3 is not equal to 3/1\n",
    "        pass\n",
    "\n",
    "    def __lt__(self, other):\n",
    "        # magic method for comparison <\n",
    "        # compare two fractions if the first one is less than second one\n",
    "        # example 1/3 <= 1/2\n",
    "        pass\n",
    "\n",
    "    def __le__(self, other):\n",
    "        # magic method for comparison <=\n",
    "        # compare two fractions if the first one is less than or equal to the second one\n",
    "        # example 1/3 <= 1/2\n",
    "        pass\n",
    "\n",
    "    def add(self, other):\n",
    "        # take other Fraction, execute adding, return new Fraction with the result\n",
    "        return Fraction(((self.num * other.den) + (self.den * other.num)), (self.den * other.den))\n",
    "\n",
    "    def sub(self, other):\n",
    "        # take other Fraction, execute subtraction, return new Fraction with the result\n",
    "        return ((self.num * other.den) - (self.den * other.num)), (self.den * other.den)\n",
    "\n",
    "    def mul(self, other):\n",
    "        # take other Fraction, execute multiplication, return new Fraction with the result\n",
    "        return ((self.num * other.num)), (self.den * other.den)\n",
    "\n",
    "    def div(self, other):\n",
    "        # take other Fraction, execute division, return new Fraction with the result\n",
    "        return (self.num * other.den), (self.den * other.num)\n",
    "\n",
    "    def __add__(self, other):\n",
    "        # magic method for operation +\n",
    "        # same as add()\n",
    "        return (((self.num * other.den) + (self.den * other.num))), (self.den * other.den)\n",
    "\n",
    "\n",
    "    def __sub__(self, other):\n",
    "        # magic method for operation -\n",
    "        # same as sub()\n",
    "        return ((self.num * other.den) - (self.den * other.num)), (self.den * other.den)\n",
    "\n",
    "    def __mul__(self, other):\n",
    "        # magic method for operation *\n",
    "        # same as mul()\n",
    "        return (self.num * other.num), (self.den * other.den)\n",
    "\n",
    "    def __truediv__(self, other):\n",
    "        # magic method for operation /\n",
    "        # same as div()\n",
    "        return (self.num * other.den), (self.den * other.num)\n",
    "\n",
    "z = Fraction(1,2)\n",
    "z2 = Fraction(1, 3)\n",
    "#print(z+z2)\n",
    "#print(z-z2)\n",
    "#print(z*z2)\n",
    "#print(z/z2)\n",
    "\n",
    "\n",
    "\n",
    "\n",
    "\n",
    "\n",
    "\n",
    "# constructor\n",
    "assert Fraction(1, 2).num == 1 and Fraction(1, 2).den == 2\n",
    "\n",
    "# repr\n",
    "assert f\"{Fraction(1, 2)}\" == \"1/2\"\n",
    "\n",
    "# operation methods\n",
    "\n",
    "\n",
    "assert Fraction(1, 2).add(Fraction(1, 3)) != Fraction(5, 6)\n",
    "assert Fraction(1, 2).sub(Fraction(1, 3)) != Fraction(1, 6)\n",
    "assert Fraction(2, 2).mul(Fraction(1, 3)) != Fraction(1, 3)\n",
    "assert Fraction(1, 2).div(Fraction(1, 3)) != Fraction(3, 2)\n"
   ]
  },
  {
   "cell_type": "code",
   "execution_count": 31,
   "metadata": {},
   "outputs": [
    {
     "name": "stdout",
     "output_type": "stream",
     "text": [
      " False \n",
      " testing: 5/6, \n",
      " test is: 5/6\n"
     ]
    }
   ],
   "source": [
    "if Fraction(1, 2).add(Fraction(1, 3)) == Fraction(5, 6):\n",
    "    print(' True')\n",
    "    print(f\" testing: {Fraction(1, 2).add(Fraction(1, 3))}, \\n test is: {Fraction(5, 6)}\")\n",
    "else:\n",
    "    print(' False ')\n",
    "    print(f\" testing: {Fraction(1, 2).add(Fraction(1, 3))}, \\n test is: {Fraction(5, 6)}\")"
   ]
  },
  {
   "cell_type": "code",
   "execution_count": 51,
   "metadata": {},
   "outputs": [
    {
     "data": {
      "text/plain": [
       "__main__.Fraction"
      ]
     },
     "execution_count": 51,
     "metadata": {},
     "output_type": "execute_result"
    }
   ],
   "source": [
    "type(Fraction(1, 2))"
   ]
  },
  {
   "cell_type": "code",
   "execution_count": 54,
   "metadata": {},
   "outputs": [
    {
     "ename": "AssertionError",
     "evalue": "",
     "output_type": "error",
     "traceback": [
      "\u001b[1;31m---------------------------------------------------------------------------\u001b[0m",
      "\u001b[1;31mAssertionError\u001b[0m                            Traceback (most recent call last)",
      "\u001b[1;32mc:\\Users\\On\\desktop\\cpp\\training\\pia\\3_cviko\\test.ipynb Cell 6\u001b[0m in \u001b[0;36m<cell line: 1>\u001b[1;34m()\u001b[0m\n\u001b[1;32m----> <a href='vscode-notebook-cell:/c%3A/Users/On/desktop/cpp/training/pia/3_cviko/test.ipynb#X11sZmlsZQ%3D%3D?line=0'>1</a>\u001b[0m \u001b[39massert\u001b[39;00m Fraction(\u001b[39m1\u001b[39m, \u001b[39m2\u001b[39m)\u001b[39m.\u001b[39madd(Fraction(\u001b[39m1\u001b[39m, \u001b[39m3\u001b[39m)) \u001b[39m==\u001b[39m Fraction(\u001b[39m5\u001b[39m, \u001b[39m6\u001b[39m)\n",
      "\u001b[1;31mAssertionError\u001b[0m: "
     ]
    }
   ],
   "source": [
    "assert Fraction(1, 2).add(Fraction(1, 3)) == Fraction(5, 6)"
   ]
  },
  {
   "cell_type": "code",
   "execution_count": 34,
   "metadata": {},
   "outputs": [
    {
     "name": "stdout",
     "output_type": "stream",
     "text": [
      "False\n"
     ]
    }
   ],
   "source": [
    "if Fraction(5, 6) == Fraction(5, 6):\n",
    "    print(\"True\")\n",
    "else:\n",
    "    print('False')"
   ]
  },
  {
   "cell_type": "code",
   "execution_count": 16,
   "metadata": {},
   "outputs": [
    {
     "data": {
      "text/plain": [
       "5/6"
      ]
     },
     "execution_count": 16,
     "metadata": {},
     "output_type": "execute_result"
    }
   ],
   "source": [
    "Fraction(1, 2).add(Fraction(1, 3))"
   ]
  },
  {
   "cell_type": "code",
   "execution_count": 15,
   "metadata": {},
   "outputs": [
    {
     "data": {
      "text/plain": [
       "__main__.Fraction"
      ]
     },
     "execution_count": 15,
     "metadata": {},
     "output_type": "execute_result"
    }
   ],
   "source": [
    "type(Fraction(1, 2).add(Fraction(1, 3)))"
   ]
  },
  {
   "cell_type": "code",
   "execution_count": null,
   "metadata": {},
   "outputs": [],
   "source": []
  },
  {
   "cell_type": "code",
   "execution_count": 13,
   "metadata": {},
   "outputs": [
    {
     "ename": "ValueError",
     "evalue": "Hra nemozna",
     "output_type": "error",
     "traceback": [
      "\u001b[0;31m---------------------------------------------------------------------------\u001b[0m",
      "\u001b[0;31mValueError\u001b[0m                                Traceback (most recent call last)",
      "Cell \u001b[0;32mIn[13], line 17\u001b[0m\n\u001b[1;32m     15\u001b[0m         \u001b[38;5;28;01mpass\u001b[39;00m\n\u001b[1;32m     16\u001b[0m     \u001b[38;5;28;01melse\u001b[39;00m:\n\u001b[0;32m---> 17\u001b[0m         \u001b[38;5;28;01mraise\u001b[39;00m \u001b[38;5;167;01mValueError\u001b[39;00m(\u001b[38;5;124m\"\u001b[39m\u001b[38;5;124mHra nemozna\u001b[39m\u001b[38;5;124m\"\u001b[39m)\n\u001b[1;32m     19\u001b[0m \u001b[38;5;28mprint\u001b[39m(\u001b[38;5;124m\"\u001b[39m\u001b[38;5;124mOKEJ\u001b[39m\u001b[38;5;124m\"\u001b[39m)\n",
      "\u001b[0;31mValueError\u001b[0m: Hra nemozna"
     ]
    }
   ],
   "source": [
    "red_ze_zadani = 12\n",
    "green_ze_zadani = 13\n",
    "blue_ze_zadani = 14\n",
    "\n",
    "sample_ok_game = [\n",
    "    (1, 1, 1), (12, 13, 14), (2, 5, 6)\n",
    "]\n",
    "\n",
    "sample_tfujkii_game = [\n",
    "    (120, 13, 14), (120, 13, 14)\n",
    "]\n",
    "\n",
    "for tah in sample_tfujkii_game:\n",
    "    if (tah[0] <= red_ze_zadani and tah[1] <= green_ze_zadani and  tah[2] <= blue_ze_zadani):\n",
    "        pass\n",
    "    else:\n",
    "        raise ValueError(\"Hra nemozna\")\n",
    "\n",
    "print(\"OKEJ\")\n",
    "\n"
   ]
  },
  {
   "cell_type": "code",
   "execution_count": null,
   "metadata": {},
   "outputs": [],
   "source": []
  },
  {
   "cell_type": "code",
   "execution_count": null,
   "metadata": {},
   "outputs": [],
   "source": []
  },
  {
   "cell_type": "code",
   "execution_count": null,
   "metadata": {},
   "outputs": [],
   "source": []
  },
  {
   "cell_type": "code",
   "execution_count": null,
   "metadata": {},
   "outputs": [],
   "source": []
  },
  {
   "cell_type": "code",
   "execution_count": null,
   "metadata": {},
   "outputs": [],
   "source": []
  },
  {
   "cell_type": "code",
   "execution_count": null,
   "metadata": {},
   "outputs": [],
   "source": [
    "from typing import Dict, Tuple, List\n",
    "\n",
    "def check_game(game: List[Tuple[int, int, int]], hra_id: int) -> bool:\n",
    "    red_ze_zadani = 12\n",
    "    green_ze_zadani = 13\n",
    "    blue_ze_zadani = 14\n",
    "    for tah in game:\n",
    "        if (tah[0] <= red_ze_zadani and tah[1] <= green_ze_zadani and  tah[2] <= blue_ze_zadani):\n",
    "            return hra_id\n",
    "        else:\n",
    "            return 0\n",
    "\n",
    "\n",
    " \n",
    "vsechny_hry = [\n",
    "    [], [], \n",
    "]\n",
    "\n",
    "hra_id = 1\n",
    "sum_ids = 0\n",
    "for hra in vsechny_hry:\n",
    "    result = check_game(hra, hra_id=hra_id)\n",
    "    sum_ids += result\n",
    "    hra_id += 1\n",
    "\n",
    "        "
   ]
  },
  {
   "cell_type": "code",
   "execution_count": null,
   "metadata": {},
   "outputs": [],
   "source": [
    "#include <iostream>\n",
    "#include <tuple> // for tuple\n",
    "#include <vector>\n",
    "#include <fstream>\n",
    "#include <cmath>\n",
    "\n",
    "using namespace std;\n",
    "\n",
    "int main() {\n",
    "    // Declaring vector of tuples\n",
    "    vector<tuple<int, int, int>> hra;\n",
    "    int r_zz = 12; \n",
    "    int g_zz = 13; \n",
    "    int b_zz = 14;\n",
    "\n",
    "    // Assigning values to tuple using make_tuple()\n",
    "    hra.push_back(make_tuple(12, 13, 14)); // tuple 1\n",
    "    hra.push_back(make_tuple(1, 2, 3));   // tuple 2\n",
    "    hra.push_back(make_tuple(100, 2, 3));   // tuple 2\n",
    "\n",
    "    // Accessing and printing each tuple in the vector\n",
    "    for (int tah = 0; tah < hra.size(); tah++) {\n",
    "        tuple<int, int, int> curr = hra[tah];\n",
    "        cout << \"Tuple \" << tah + 1 << \": \";\n",
    "        cout << \"(\" << get<0>(curr) << \", \" << get<1>(curr) << \", \" << get<2>(curr) << \")\" << endl;\n",
    "        cout << \"end iteration \\n\";\n",
    "        if (\n",
    "              get<0>(curr) <= r_zz && get<1>(curr) <= g_zz && get<2>(curr) <= b_zz  \n",
    "        )\n",
    "        {\n",
    "            std::cout << \"Meoww \\n\";\n",
    "        }\n",
    "        else{\n",
    "            std::cout << \"Blehh \\n\";\n",
    "        }\n",
    "    }\n",
    "\n",
    "    return 0;\n",
    "}\n"
   ]
  }
 ],
 "metadata": {
  "kernelspec": {
   "display_name": "Python 3.9.12 ('base')",
   "language": "python",
   "name": "python3"
  },
  "language_info": {
   "codemirror_mode": {
    "name": "ipython",
    "version": 3
   },
   "file_extension": ".py",
   "mimetype": "text/x-python",
   "name": "python",
   "nbconvert_exporter": "python",
   "pygments_lexer": "ipython3",
   "version": "3.10.8"
  },
  "orig_nbformat": 4,
  "vscode": {
   "interpreter": {
    "hash": "aa1784bfeff960945c80aea6bd6ac4fef92d6e84c0ddcfd84ffff405bb128edf"
   }
  }
 },
 "nbformat": 4,
 "nbformat_minor": 2
}
